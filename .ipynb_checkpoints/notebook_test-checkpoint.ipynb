{
 "cells": [
  {
   "cell_type": "code",
   "execution_count": null,
   "id": "01200e3f-6c90-4e5d-8f25-39c5dac53e1c",
   "metadata": {},
   "outputs": [],
   "source": [
    "import face_recognition\n",
    "import numpy as np\n",
    "import os\n",
    "import sys\n",
    "\n",
    "def save_embedding(image_path, name, output_dir=\"embeddings\"):\n",
    "    image = face_recognition.load_image_file(image_path)\n",
    "    encodings = face_recognition.face_encodings(image)\n",
    "\n",
    "    if encodings:\n",
    "        os.makedirs(output_dir, exist_ok=True)\n",
    "        np.save(os.path.join(output_dir, f\"{name}.npy\"), encodings[0])\n",
    "        print(f\"Embedding enregistré pour {name}\")\n",
    "    else:\n",
    "        print(\"Aucun visage détecté.\")\n",
    "\n",
    "if __name__ == \"__main__\":\n",
    "    if len(sys.argv) != 3:\n",
    "        print(\"Usage : python save_embedding.py <image_path> <nom_etudiant>\")\n",
    "    else:\n",
    "        save_embedding(sys.argv[1], sys.argv[2])\n"
   ]
  }
 ],
 "metadata": {
  "kernelspec": {
   "display_name": "Python 3 (ipykernel)",
   "language": "python",
   "name": "python3"
  },
  "language_info": {
   "codemirror_mode": {
    "name": "ipython",
    "version": 3
   },
   "file_extension": ".py",
   "mimetype": "text/x-python",
   "name": "python",
   "nbconvert_exporter": "python",
   "pygments_lexer": "ipython3",
   "version": "3.12.7"
  }
 },
 "nbformat": 4,
 "nbformat_minor": 5
}
