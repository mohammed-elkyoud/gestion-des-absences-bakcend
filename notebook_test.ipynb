{
 "cells": [
  {
   "cell_type": "code",
   "execution_count": 5,
   "id": "8e898c98-54a3-47f7-9442-906136796377",
   "metadata": {},
   "outputs": [
    {
     "name": "stdout",
     "output_type": "stream",
     "text": [
      "Requirement already satisfied: pip in c:\\python310\\lib\\site-packages (22.3.1)\n",
      "Collecting pip\n",
      "  Downloading pip-25.1.1-py3-none-any.whl (1.8 MB)\n",
      "     ---------------------------------------- 1.8/1.8 MB 2.3 MB/s eta 0:00:00\n",
      "Installing collected packages: pip\n",
      "  Attempting uninstall: pip\n",
      "    Found existing installation: pip 22.3.1\n",
      "    Uninstalling pip-22.3.1:\n",
      "      Successfully uninstalled pip-22.3.1\n",
      "Successfully installed pip-25.1.1\n"
     ]
    }
   ],
   "source": [
    "!python -m pip install --upgrade pip\n"
   ]
  },
  {
   "cell_type": "code",
   "execution_count": 6,
   "id": "15ab4e4d-43d6-4760-93a2-4bc188403500",
   "metadata": {},
   "outputs": [
    {
     "name": "stdout",
     "output_type": "stream",
     "text": [
      "Requirement already satisfied: flask in c:\\python310\\lib\\site-packages (from -r requirements.txt (line 1)) (3.1.0)\n",
      "Requirement already satisfied: face_recognition in c:\\python310\\lib\\site-packages (from -r requirements.txt (line 2)) (1.3.0)\n",
      "Requirement already satisfied: numpy in c:\\python310\\lib\\site-packages (from -r requirements.txt (line 3)) (2.2.5)\n",
      "Requirement already satisfied: Pillow in c:\\python310\\lib\\site-packages (from -r requirements.txt (line 4)) (11.2.1)\n",
      "Requirement already satisfied: Werkzeug>=3.1 in c:\\python310\\lib\\site-packages (from flask->-r requirements.txt (line 1)) (3.1.3)\n",
      "Requirement already satisfied: Jinja2>=3.1.2 in c:\\python310\\lib\\site-packages (from flask->-r requirements.txt (line 1)) (3.1.6)\n",
      "Requirement already satisfied: itsdangerous>=2.2 in c:\\python310\\lib\\site-packages (from flask->-r requirements.txt (line 1)) (2.2.0)\n",
      "Requirement already satisfied: click>=8.1.3 in c:\\python310\\lib\\site-packages (from flask->-r requirements.txt (line 1)) (8.1.8)\n",
      "Requirement already satisfied: blinker>=1.9 in c:\\python310\\lib\\site-packages (from flask->-r requirements.txt (line 1)) (1.9.0)\n",
      "Requirement already satisfied: face-recognition-models>=0.3.0 in c:\\python310\\lib\\site-packages (from face_recognition->-r requirements.txt (line 2)) (0.3.0)\n",
      "Requirement already satisfied: dlib>=19.7 in c:\\python310\\lib\\site-packages (from face_recognition->-r requirements.txt (line 2)) (19.24.8)\n",
      "Requirement already satisfied: colorama in c:\\python310\\lib\\site-packages (from click>=8.1.3->flask->-r requirements.txt (line 1)) (0.4.6)\n",
      "Requirement already satisfied: MarkupSafe>=2.0 in c:\\python310\\lib\\site-packages (from Jinja2>=3.1.2->flask->-r requirements.txt (line 1)) (3.0.2)\n"
     ]
    }
   ],
   "source": [
    "# Installer les librairies\n",
    "!pip install -r requirements.txt"
   ]
  },
  {
   "cell_type": "code",
   "execution_count": 7,
   "id": "23b52019-9c51-47ff-be72-8a940db208eb",
   "metadata": {},
   "outputs": [
    {
     "name": "stderr",
     "output_type": "stream",
     "text": [
      "Traceback (most recent call last):\n",
      "  File \"C:\\Users\\user\\Desktop\\gestion-des-absences-bakcend\\save_embedding.py\", line 24, in <module>\n",
      "    generate_all_embeddings()\n",
      "  File \"C:\\Users\\user\\Desktop\\gestion-des-absences-bakcend\\save_embedding.py\", line 17, in generate_all_embeddings\n",
      "    print(f\"\\u2705 Embedding créé pour {name}\")\n",
      "  File \"C:\\Python310\\lib\\encodings\\cp1252.py\", line 19, in encode\n",
      "    return codecs.charmap_encode(input,self.errors,encoding_table)[0]\n",
      "UnicodeEncodeError: 'charmap' codec can't encode character '\\u2705' in position 0: character maps to <undefined>\n"
     ]
    }
   ],
   "source": [
    "# Générer l'embedding depuis une image\n",
    "!python save_embedding.py known_faces/cr7.jpg cr7"
   ]
  },
  {
   "cell_type": "code",
   "execution_count": 1,
   "id": "b277ad1d-7f32-4053-aec7-0dbac26a416a",
   "metadata": {},
   "outputs": [
    {
     "name": "stderr",
     "output_type": "stream",
     "text": [
      "Traceback (most recent call last):\n",
      "  File \"C:\\Users\\user\\Desktop\\gestion-des-absences-bakcend\\face_recognition_api.py\", line 6, in <module>\n",
      "    from routes.professors import bp as profs_bp\n",
      "  File \"C:\\Users\\user\\Desktop\\gestion-des-absences-bakcend\\routes\\professors.py\", line 4, in <module>\n",
      "    from auth.jwt_utils import generate_token, token_required\n",
      "  File \"C:\\Users\\user\\Desktop\\gestion-des-absences-bakcend\\auth\\jwt_utils.py\", line 2, in <module>\n",
      "    import jwt\n",
      "ModuleNotFoundError: No module named 'jwt'\n"
     ]
    }
   ],
   "source": [
    "!python face_recognition_api.py"
   ]
  },
  {
   "cell_type": "code",
   "execution_count": null,
   "id": "7ce29a79-a0d1-405f-8ff1-f80ac401b163",
   "metadata": {},
   "outputs": [],
   "source": []
  }
 ],
 "metadata": {
  "kernelspec": {
   "display_name": "Python 3 (ipykernel)",
   "language": "python",
   "name": "python3"
  },
  "language_info": {
   "codemirror_mode": {
    "name": "ipython",
    "version": 3
   },
   "file_extension": ".py",
   "mimetype": "text/x-python",
   "name": "python",
   "nbconvert_exporter": "python",
   "pygments_lexer": "ipython3",
   "version": "3.12.7"
  }
 },
 "nbformat": 4,
 "nbformat_minor": 5
}
