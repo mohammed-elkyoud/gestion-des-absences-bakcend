{
 "cells": [
  {
   "cell_type": "code",
   "execution_count": 1,
   "id": "8e898c98-54a3-47f7-9442-906136796377",
   "metadata": {},
   "outputs": [
    {
     "name": "stdout",
     "output_type": "stream",
     "text": [
      "Collecting flask"
     ]
    },
    {
     "name": "stderr",
     "output_type": "stream",
     "text": [
      "  DEPRECATION: dlib is being installed using the legacy 'setup.py install' method, because it does not have a 'pyproject.toml' and the 'wheel' package is not installed. pip 23.1 will enforce this behaviour change. A possible replacement is to enable the '--use-pep517' option. Discussion can be found at https://github.com/pypa/pip/issues/8559\n",
      "\n",
      "[notice] A new release of pip available: 22.3.1 -> 25.1.1\n",
      "[notice] To update, run: python.exe -m pip install --upgrade pip\n"
     ]
    },
    {
     "name": "stdout",
     "output_type": "stream",
     "text": [
      "\n",
      "  Downloading flask-3.1.0-py3-none-any.whl (102 kB)\n",
      "     ------------------------------------ 103.0/103.0 kB 423.5 kB/s eta 0:00:00\n",
      "Collecting face_recognition\n",
      "  Using cached face_recognition-1.3.0-py2.py3-none-any.whl (15 kB)\n",
      "Collecting numpy\n",
      "  Using cached numpy-2.2.5-cp310-cp310-win_amd64.whl (12.9 MB)\n",
      "Collecting Pillow\n",
      "  Using cached pillow-11.2.1-cp310-cp310-win_amd64.whl (2.7 MB)\n",
      "Collecting itsdangerous>=2.2\n",
      "  Downloading itsdangerous-2.2.0-py3-none-any.whl (16 kB)\n",
      "Collecting blinker>=1.9\n",
      "  Downloading blinker-1.9.0-py3-none-any.whl (8.5 kB)\n",
      "Collecting click>=8.1.3\n",
      "  Using cached click-8.1.8-py3-none-any.whl (98 kB)\n",
      "Collecting Jinja2>=3.1.2\n",
      "  Downloading jinja2-3.1.6-py3-none-any.whl (134 kB)\n",
      "     ------------------------------------ 134.9/134.9 kB 794.0 kB/s eta 0:00:00\n",
      "Collecting Werkzeug>=3.1\n",
      "  Downloading werkzeug-3.1.3-py3-none-any.whl (224 kB)\n",
      "     ------------------------------------ 224.5/224.5 kB 857.0 kB/s eta 0:00:00\n",
      "Requirement already satisfied: face-recognition-models>=0.3.0 in c:\\python310\\lib\\site-packages (from face_recognition->-r requirements.txt (line 2)) (0.3.0)\n",
      "Collecting dlib>=19.7\n",
      "  Using cached dlib-19.24.8.tar.gz (3.4 MB)\n",
      "  Preparing metadata (setup.py): started\n",
      "  Preparing metadata (setup.py): finished with status 'done'\n",
      "Collecting colorama\n",
      "  Using cached colorama-0.4.6-py2.py3-none-any.whl (25 kB)\n",
      "Collecting MarkupSafe>=2.0\n",
      "  Downloading MarkupSafe-3.0.2-cp310-cp310-win_amd64.whl (15 kB)\n",
      "Installing collected packages: dlib, Pillow, numpy, MarkupSafe, itsdangerous, colorama, blinker, Werkzeug, Jinja2, click, flask, face_recognition\n",
      "  Running setup.py install for dlib: started\n",
      "  Running setup.py install for dlib: still running...\n",
      "  Running setup.py install for dlib: still running...\n",
      "  Running setup.py install for dlib: still running...\n",
      "  Running setup.py install for dlib: still running...\n",
      "  Running setup.py install for dlib: still running...\n",
      "  Running setup.py install for dlib: still running...\n",
      "  Running setup.py install for dlib: finished with status 'done'\n",
      "Successfully installed Jinja2-3.1.6 MarkupSafe-3.0.2 Pillow-11.2.1 Werkzeug-3.1.3 blinker-1.9.0 click-8.1.8 colorama-0.4.6 dlib-19.24.8 face_recognition-1.3.0 flask-3.1.0 itsdangerous-2.2.0 numpy-2.2.5\n"
     ]
    }
   ],
   "source": [
    "# Installer les librairies\n",
    "!pip install -r requirements.txt"
   ]
  },
  {
   "cell_type": "code",
   "execution_count": 5,
   "id": "23b52019-9c51-47ff-be72-8a940db208eb",
   "metadata": {},
   "outputs": [
    {
     "name": "stdout",
     "output_type": "stream",
     "text": [
      "Embedding saved for cr7\n"
     ]
    }
   ],
   "source": [
    "# Générer l'embedding depuis une image\n",
    "!python save_embedding.py known_faces/cr7.jpg cr7"
   ]
  },
  {
   "cell_type": "code",
   "execution_count": 1,
   "id": "b277ad1d-7f32-4053-aec7-0dbac26a416a",
   "metadata": {},
   "outputs": [],
   "source": [
    "!python face_recognition_api.py"
   ]
  },
  {
   "cell_type": "code",
   "execution_count": null,
   "id": "7ce29a79-a0d1-405f-8ff1-f80ac401b163",
   "metadata": {},
   "outputs": [],
   "source": []
  }
 ],
 "metadata": {
  "kernelspec": {
   "display_name": "Python 3 (ipykernel)",
   "language": "python",
   "name": "python3"
  },
  "language_info": {
   "codemirror_mode": {
    "name": "ipython",
    "version": 3
   },
   "file_extension": ".py",
   "mimetype": "text/x-python",
   "name": "python",
   "nbconvert_exporter": "python",
   "pygments_lexer": "ipython3",
   "version": "3.12.7"
  }
 },
 "nbformat": 4,
 "nbformat_minor": 5
}
